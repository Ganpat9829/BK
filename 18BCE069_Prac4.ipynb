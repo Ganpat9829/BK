{
  "nbformat": 4,
  "nbformat_minor": 0,
  "metadata": {
    "kernelspec": {
      "display_name": "Python 3.7.7 64-bit ('KARAN': conda)",
      "language": "python",
      "name": "python37764bitkaranconda3343894899584811926642c7ae77513b"
    },
    "language_info": {
      "codemirror_mode": {
        "name": "ipython",
        "version": 3
      },
      "file_extension": ".py",
      "mimetype": "text/x-python",
      "name": "python",
      "nbconvert_exporter": "python",
      "pygments_lexer": "ipython3",
      "version": "3.7.7"
    },
    "colab": {
      "name": "18BCE069_Prac4.ipynb",
      "provenance": [],
      "include_colab_link": true
    }
  },
  "cells": [
    {
      "cell_type": "markdown",
      "metadata": {
        "id": "view-in-github",
        "colab_type": "text"
      },
      "source": [
        "<a href=\"https://colab.research.google.com/github/Ganpat9829/BK/blob/main/18BCE069_Prac4.ipynb\" target=\"_parent\"><img src=\"https://colab.research.google.com/assets/colab-badge.svg\" alt=\"Open In Colab\"/></a>"
      ]
    },
    {
      "cell_type": "code",
      "metadata": {
        "id": "xJk4mHHWzNVF"
      },
      "source": [
        "from collections import Counter"
      ],
      "execution_count": null,
      "outputs": []
    },
    {
      "cell_type": "code",
      "metadata": {
        "id": "C8mv7iGczNVQ"
      },
      "source": [
        "class General:\n",
        "    def __init__(self, id, is_traitor=False):\n",
        "        self.id = id\n",
        "        self.other_generals = []\n",
        "        self.orders = []\n",
        "        self.is_traitor = is_traitor\n",
        "\n",
        "    def __call__(self, m, order):\n",
        "        self.om_algorithm(commander=self,\n",
        "                          m=m,\n",
        "                          order=order,\n",
        "                          )\n",
        "\n",
        "    def _next_order(self, is_traitor, order, i):\n",
        "        if is_traitor:\n",
        "            if i % 2 == 0:\n",
        "                return \"ATTACK\" if order == \"RETREAT\" else \"RETREAT\"\n",
        "        return order\n",
        "\n",
        "    def om_algorithm(self, commander, m, order):\n",
        "        if m < 0:\n",
        "            self.orders.append(order)\n",
        "        elif m == 0:\n",
        "            for i, l in enumerate(self.other_generals):\n",
        "                l.om_algorithm(\n",
        "                    commander=self,\n",
        "                    m=(m - 1),\n",
        "                    order=self._next_order(self.is_traitor, order, i)\n",
        "                )\n",
        "        else:\n",
        "            for i, l in enumerate(self.other_generals):\n",
        "                if l is not self and l is not commander:\n",
        "                    l.om_algorithm(\n",
        "                        commander=self,\n",
        "                        m=(m - 1),\n",
        "                        order=self._next_order(self.is_traitor, order, i)\n",
        "                    )\n",
        "\n",
        "    @property\n",
        "    def decision(self):\n",
        "        c = Counter(self.orders)\n",
        "        return c.most_common()\n",
        "\n"
      ],
      "execution_count": null,
      "outputs": []
    },
    {
      "cell_type": "code",
      "metadata": {
        "id": "YD3LzZ2hzNVW"
      },
      "source": [
        "\n",
        "def init_generals(generals_spec):\n",
        "    generals = []\n",
        "    for i, spec in enumerate(generals_spec):\n",
        "        general = General(i)\n",
        "        if spec == \"l\":\n",
        "            pass\n",
        "        elif spec == \"t\":\n",
        "            general.is_traitor = True\n",
        "        else:\n",
        "            print(\"Error, bad input in generals list: {}\".format(generals_spec))\n",
        "            exit(1)\n",
        "        generals.append(general)\n",
        "    # Add list of other generals to each general.\n",
        "    for general in generals:\n",
        "        general.other_generals = generals\n",
        "    return generals\n"
      ],
      "execution_count": null,
      "outputs": []
    },
    {
      "cell_type": "code",
      "metadata": {
        "id": "_VW_wS3JzNVg"
      },
      "source": [
        "def print_decisions(generals):\n",
        "    for i, l in enumerate(generals):\n",
        "        print(\"General {}: {}\".format(i, l.decision))"
      ],
      "execution_count": null,
      "outputs": []
    },
    {
      "cell_type": "code",
      "metadata": {
        "colab": {
          "base_uri": "https://localhost:8080/"
        },
        "id": "0_G99U5jzNVj",
        "outputId": "d12023ca-bcdf-4d46-bc97-34eb74cc9034"
      },
      "source": [
        "m = 2\n",
        "g = 'l, t, l, l'\n",
        "o = \"ATTACK\"\n",
        "\n",
        "generals_spec = [x.strip() for x in g.split(',')]\n",
        "generals = init_generals(generals_spec=generals_spec)\n",
        "generals[0](m=m, order=o)\n",
        "print_decisions(generals)"
      ],
      "execution_count": null,
      "outputs": [
        {
          "output_type": "stream",
          "name": "stdout",
          "text": [
            "General 0: [('RETREAT', 3), ('ATTACK', 3)]\n",
            "General 1: [('ATTACK', 5), ('RETREAT', 1)]\n",
            "General 2: [('RETREAT', 3), ('ATTACK', 3)]\n",
            "General 3: [('ATTACK', 5), ('RETREAT', 1)]\n"
          ]
        }
      ]
    },
    {
      "cell_type": "code",
      "metadata": {
        "colab": {
          "base_uri": "https://localhost:8080/"
        },
        "id": "o6smWBw2zNVn",
        "outputId": "19287a0c-976a-4d25-adf6-2a27620fdf64"
      },
      "source": [
        "m = 3\n",
        "g = 'l, t, t, t'\n",
        "o = \"ATTACK\"\n",
        "\n",
        "generals_spec = [x.strip() for x in g.split(',')]\n",
        "generals = init_generals(generals_spec=generals_spec)\n",
        "generals[0](m=m, order=o)\n",
        "print_decisions(generals)"
      ],
      "execution_count": null,
      "outputs": [
        {
          "output_type": "stream",
          "name": "stdout",
          "text": [
            "General 0: [('ATTACK', 6), ('RETREAT', 6)]\n",
            "General 1: [('RETREAT', 8), ('ATTACK', 4)]\n",
            "General 2: [('ATTACK', 6), ('RETREAT', 6)]\n",
            "General 3: [('RETREAT', 8), ('ATTACK', 4)]\n"
          ]
        }
      ]
    },
    {
      "cell_type": "code",
      "metadata": {
        "colab": {
          "base_uri": "https://localhost:8080/"
        },
        "id": "aM-FV2vCzNVo",
        "outputId": "3fc32b45-0a09-4d19-ae97-3cd1bf79266f"
      },
      "source": [
        "m = 0\n",
        "g = 'l, 1, 1, 1'\n",
        "o = \"ATTACK\"\n",
        "\n",
        "generals_spec = [x.strip() for x in g.split(',')]\n",
        "generals = init_generals(generals_spec=generals_spec)\n",
        "generals[0](m=m, order=o)\n",
        "print_decisions(generals)"
      ],
      "execution_count": null,
      "outputs": [
        {
          "output_type": "stream",
          "name": "stdout",
          "text": [
            "Error, bad input in generals list: ['l', '1', '1', '1']\n",
            "Error, bad input in generals list: ['l', '1', '1', '1']\n",
            "Error, bad input in generals list: ['l', '1', '1', '1']\n",
            "General 0: [('ATTACK', 1)]\n",
            "General 1: [('ATTACK', 1)]\n",
            "General 2: [('ATTACK', 1)]\n",
            "General 3: [('ATTACK', 1)]\n"
          ]
        }
      ]
    },
    {
      "cell_type": "code",
      "metadata": {
        "id": "xKX7GN8fzkqq"
      },
      "source": [
        ""
      ],
      "execution_count": null,
      "outputs": []
    }
  ]
}