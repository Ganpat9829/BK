{
  "nbformat": 4,
  "nbformat_minor": 0,
  "metadata": {
    "colab": {
      "name": "18BCE069_Practical_1.ipynb",
      "provenance": [],
      "collapsed_sections": [],
      "include_colab_link": true
    },
    "kernelspec": {
      "display_name": "Python 3",
      "language": "python",
      "name": "python3"
    },
    "language_info": {
      "codemirror_mode": {
        "name": "ipython",
        "version": 3
      },
      "file_extension": ".py",
      "mimetype": "text/x-python",
      "name": "python",
      "nbconvert_exporter": "python",
      "pygments_lexer": "ipython3",
      "version": "3.8.5"
    }
  },
  "cells": [
    {
      "cell_type": "markdown",
      "metadata": {
        "id": "view-in-github",
        "colab_type": "text"
      },
      "source": [
        "<a href=\"https://colab.research.google.com/github/Ganpat9829/BK/blob/main/18BCE069_Practical_1.ipynb\" target=\"_parent\"><img src=\"https://colab.research.google.com/assets/colab-badge.svg\" alt=\"Open In Colab\"/></a>"
      ]
    },
    {
      "cell_type": "code",
      "metadata": {
        "id": "D5K5Ce3BhXpc"
      },
      "source": [
        ""
      ],
      "execution_count": null,
      "outputs": []
    },
    {
      "cell_type": "markdown",
      "metadata": {
        "id": "VO4KkVSRxHLO"
      },
      "source": [
        "# **Install**"
      ]
    },
    {
      "cell_type": "code",
      "metadata": {
        "colab": {
          "base_uri": "https://localhost:8080/"
        },
        "id": "_H9YG5L4mDUt",
        "outputId": "90174a7e-ac4d-4990-f55f-3b66ba213dd8"
      },
      "source": [
        "pip install pycryptodome"
      ],
      "execution_count": null,
      "outputs": [
        {
          "output_type": "stream",
          "name": "stdout",
          "text": [
            "Collecting pycryptodome\n",
            "  Downloading pycryptodome-3.11.0-cp35-abi3-manylinux2010_x86_64.whl (1.9 MB)\n",
            "\u001b[K     |████████████████████████████████| 1.9 MB 5.1 MB/s \n",
            "\u001b[?25hInstalling collected packages: pycryptodome\n",
            "Successfully installed pycryptodome-3.11.0\n"
          ]
        }
      ]
    },
    {
      "cell_type": "code",
      "metadata": {
        "id": "OTpeI0nCpfSb"
      },
      "source": [
        ""
      ],
      "execution_count": null,
      "outputs": []
    },
    {
      "cell_type": "markdown",
      "metadata": {
        "id": "_XcEqc4Iw6uq"
      },
      "source": [
        "# **SHA- 3-512  bits**\n"
      ]
    },
    {
      "cell_type": "code",
      "metadata": {
        "colab": {
          "base_uri": "https://localhost:8080/"
        },
        "id": "TKNu2NUgrIrw",
        "outputId": "21d45309-5b78-42ea-b2d1-fd40487c20cd"
      },
      "source": [
        "from Crypto.Hash import SHA256\n",
        "h =  SHA256.new()\n",
        "h.update(b'18BCE069 Ganpat Kumar S')\n",
        "print(h.digest())\n",
        "print(h.hexdigest())"
      ],
      "execution_count": null,
      "outputs": [
        {
          "output_type": "stream",
          "name": "stdout",
          "text": [
            "b'\\xce\\x04,(\\xa400\\xc1}\\xc5\\xb0h\\x08d\\x8e\\xa9l\\xf2\\xd5\\x84@E\\x9d\\xb7~r\\x8e\\xd3\\x08\\xb3\\xd8\\xe9'\n",
            "ce042c28a43030c17dc5b06808648ea96cf2d58440459db77e728ed308b3d8e9\n"
          ]
        }
      ]
    },
    {
      "cell_type": "code",
      "metadata": {
        "colab": {
          "base_uri": "https://localhost:8080/"
        },
        "id": "MdhqZyJVrygT",
        "outputId": "9b1eedf0-9dfe-4cc8-a16f-b7751f862f77"
      },
      "source": [
        "# avalanche effect\n",
        "h.update(b'8BCE069 Ganpat Kumar S')\n",
        "print(h.digest())\n",
        "print(h.hexdigest())"
      ],
      "execution_count": null,
      "outputs": [
        {
          "output_type": "stream",
          "name": "stdout",
          "text": [
            "b'\\xf8\\xc9\\xeexK\\x99\\xc9\\xc3\\x88\\n)\\x83\\x1c\\xec$\\x0e\\xd0\\x0eV\\x99\\xe5\\xb9\\x85\\x8b_\\x17\\xe6\\nZ\\xe0/\\xbc'\n",
            "f8c9ee784b99c9c3880a29831cec240ed00e5699e5b9858b5f17e60a5ae02fbc\n"
          ]
        }
      ]
    },
    {
      "cell_type": "code",
      "metadata": {
        "colab": {
          "base_uri": "https://localhost:8080/"
        },
        "id": "FMvT2DpWsfGe",
        "outputId": "1ffe573a-fe51-473a-fcf6-8844364e5136"
      },
      "source": [
        "print(h.digest_size)"
      ],
      "execution_count": null,
      "outputs": [
        {
          "output_type": "stream",
          "name": "stdout",
          "text": [
            "32\n"
          ]
        }
      ]
    },
    {
      "cell_type": "code",
      "metadata": {
        "colab": {
          "base_uri": "https://localhost:8080/"
        },
        "id": "1nxYvRJKwGsW",
        "outputId": "b81847ca-9919-4e7c-d345-6e2d8e468a73"
      },
      "source": [
        "print(h.oid) #identifier"
      ],
      "execution_count": null,
      "outputs": [
        {
          "output_type": "stream",
          "name": "stdout",
          "text": [
            "2.16.840.1.101.3.4.2.1\n"
          ]
        }
      ]
    },
    {
      "cell_type": "code",
      "metadata": {
        "colab": {
          "base_uri": "https://localhost:8080/"
        },
        "id": "9mRgYjx_wl-H",
        "outputId": "a85e9e75-49be-43d1-c81c-c62a53f65200"
      },
      "source": [
        "print(h.block_size) "
      ],
      "execution_count": null,
      "outputs": [
        {
          "output_type": "stream",
          "name": "stdout",
          "text": [
            "64\n"
          ]
        }
      ]
    },
    {
      "cell_type": "markdown",
      "metadata": {
        "id": "J9jMh6lqwuQw"
      },
      "source": [
        "# **SHA- 3-512  bits**"
      ]
    },
    {
      "cell_type": "code",
      "metadata": {
        "colab": {
          "base_uri": "https://localhost:8080/"
        },
        "id": "STyXNNd5xMo1",
        "outputId": "c97f1ff7-c274-439b-b7b4-dcc61713822a"
      },
      "source": [
        "from Crypto.Hash import SHA3_512\n",
        "h =  SHA3_512.new()\n",
        "h.update(b'18BCE069 Ganpat Kumar S')\n",
        "print(h.digest())\n",
        "print(h.hexdigest())\n",
        "print(h.digest_size)"
      ],
      "execution_count": null,
      "outputs": [
        {
          "output_type": "stream",
          "name": "stdout",
          "text": [
            "b'\\x1b\\xbb\\xd5X\\xa6\\x00\\x92x\\xb1\\x19T\\xf5\\xbfp\\x0f\\x1b\\x86\\xeaC\\xd1\\xd8\\xde\\xe3\\x85\\xe7+:\\x17\\x1b\\xdf\\xa9\\xe5\\xa9\\xce\\n\\x90\\xf0\\xc2\\x11\\xb1\\xa3\\x06\\xce%$\\xf2\\x84\\xaf\\xda\\xb6\\xfc\\xda\\x9eBh\\xbcN\\xd5F\\xeaKbM~'\n",
            "1bbbd558a6009278b11954f5bf700f1b86ea43d1d8dee385e72b3a171bdfa9e5a9ce0a90f0c211b1a306ce2524f284afdab6fcda9e4268bc4ed546ea4b624d7e\n",
            "64\n"
          ]
        }
      ]
    },
    {
      "cell_type": "markdown",
      "metadata": {
        "id": "TOOBKRUhxrC5"
      },
      "source": [
        "# **Hashed MAC**"
      ]
    },
    {
      "cell_type": "code",
      "metadata": {
        "colab": {
          "base_uri": "https://localhost:8080/"
        },
        "id": "1v-J3gkCxzIL",
        "outputId": "6c6038cf-f67b-4563-f079-5706558fb9c5"
      },
      "source": [
        "from Crypto.Hash import HMAC, SHA256\n",
        "secret = b'Sqordfish'\n",
        "h = HMAC.new(secret, digestmod=SHA256)\n",
        "h.update(b'18BCE069 Ganpat Kumar S')\n",
        "print('MAC value \\t',h.hexdigest())"
      ],
      "execution_count": null,
      "outputs": [
        {
          "output_type": "stream",
          "name": "stdout",
          "text": [
            "MAC value \t f070368dce53c18a95513b7814f85c38bfc2bf68dc00b0b3a5f222f6a136a110\n"
          ]
        }
      ]
    },
    {
      "cell_type": "markdown",
      "metadata": {
        "id": "jl-TC1Kfye_w"
      },
      "source": [
        "# **Message Digest (MD5) algorithm**"
      ]
    },
    {
      "cell_type": "code",
      "metadata": {
        "colab": {
          "base_uri": "https://localhost:8080/"
        },
        "id": "jMobEzc6y9_I",
        "outputId": "d027d040-9146-4d24-8ab6-327e34259c88"
      },
      "source": [
        "from Crypto.Hash import MD5\n",
        "h = MD5.new()\n",
        "h.update(b'Hello World')\n",
        "print(h.hexdigest())"
      ],
      "execution_count": null,
      "outputs": [
        {
          "output_type": "stream",
          "name": "stdout",
          "text": [
            "b10a8db164e0754105b7a99be72e3fe5\n"
          ]
        }
      ]
    },
    {
      "cell_type": "markdown",
      "metadata": {
        "id": "Evmzxwbvziw1"
      },
      "source": [
        "# **Different Hash Algorithms. SHA-256, SHA3-256, BLAKE2s, RIPEMD**"
      ]
    },
    {
      "cell_type": "code",
      "metadata": {
        "colab": {
          "base_uri": "https://localhost:8080/"
        },
        "id": "r_AXrwj5zw3b",
        "outputId": "c7890ed6-1ac5-4849-9e52-5f65a51e488d"
      },
      "source": [
        "import hashlib, binascii\n",
        "text = '18BCE069 Ganpat Kumar S'\n",
        "data = text.encode(\"utf8\")\n",
        "\n",
        "sha256hash =  hashlib.sha256(data).digest()\n",
        "print(\"SHA256 : \", binascii.hexlify(sha256hash))\n",
        "\n",
        "\n",
        "sha3_256hash =  hashlib.sha3_256(data).digest()\n",
        "print(\"SHA3-256 : \", binascii.hexlify(sha256hash))\n",
        "\n",
        "blake2s =  hashlib.new('blake2s',data).digest()\n",
        "print(\"blake2s : \", binascii.hexlify(blake2s))\n",
        "\n",
        "ripemd160 = hashlib.new('ripemd160',data).digest()\n",
        "print(\"ripemd160 : \", binascii.hexlify(ripemd160))\n"
      ],
      "execution_count": null,
      "outputs": [
        {
          "output_type": "stream",
          "name": "stdout",
          "text": [
            "SHA256 :  b'ce042c28a43030c17dc5b06808648ea96cf2d58440459db77e728ed308b3d8e9'\n",
            "SHA3-256 :  b'ce042c28a43030c17dc5b06808648ea96cf2d58440459db77e728ed308b3d8e9'\n",
            "blake2s :  b'7c6d457bd55bf0df0fdf87a5b4d03a97977416230a5f47072fd93b7c44c906d7'\n",
            "ripemd160 :  b'1e72232c5d9c541b0550990296d6bcb2be13bbb6'\n"
          ]
        }
      ]
    },
    {
      "cell_type": "markdown",
      "metadata": {
        "id": "7P8rSjEN3wKx"
      },
      "source": [
        "# **Keccak coin**"
      ]
    },
    {
      "cell_type": "code",
      "metadata": {
        "colab": {
          "base_uri": "https://localhost:8080/"
        },
        "id": "2vyFaqlZ3vZu",
        "outputId": "0afac072-97dd-434e-c0d7-7901bea3aa99"
      },
      "source": [
        "from Crypto.Hash import keccak\n",
        "import binascii\n",
        "keccak256 = keccak.new(data=b'18BC069 Ganpat Kumar S', digest_bits=256).digest()\n",
        "print(\"Keccak256 : \", binascii.hexlify(keccak256))\n"
      ],
      "execution_count": null,
      "outputs": [
        {
          "output_type": "stream",
          "name": "stdout",
          "text": [
            "Keccak256 :  b'6c86c055e27de3e915657c1b17fc4c21545f019d221a90dec7a4a2c2958d85f9'\n"
          ]
        }
      ]
    },
    {
      "cell_type": "code",
      "metadata": {
        "colab": {
          "base_uri": "https://localhost:8080/"
        },
        "id": "eu1n-rCKE4zi",
        "outputId": "19ec9233-624c-4dcf-8972-162bfbc88cb8"
      },
      "source": [
        "import hashlib, hmac, binascii\n",
        "mac = hmac.new(b'sourcekey',b'18BC069 Ganpat Kumar S',hashlib.sha3_512).digest()\n",
        "print(binascii.hexlify(mac))"
      ],
      "execution_count": null,
      "outputs": [
        {
          "output_type": "stream",
          "name": "stdout",
          "text": [
            "b'e628c5272264ca28c312dc0a1a87897ca8de0d5c75c2c39dfb92a7f4705bea31a87106070300b2b659db3ffb9c4a4bdbe947af6f1da1c5c48dff6031f9be3525'\n"
          ]
        }
      ]
    },
    {
      "cell_type": "markdown",
      "metadata": {
        "id": "_7mw_QYQFQ3S"
      },
      "source": [
        "# **RSA signature and verification**"
      ]
    },
    {
      "cell_type": "code",
      "metadata": {
        "colab": {
          "base_uri": "https://localhost:8080/"
        },
        "id": "HpXYttSwFXBs",
        "outputId": "7311270f-2e54-4379-cee6-27f2479ac7b2"
      },
      "source": [
        "from Crypto.PublicKey import RSA\n",
        "keyPair = RSA.generate(bits=2048)\n",
        "print(f\"Public Key: (n={hex(keyPair.n)}, e={hex(keyPair.e)})\")\n",
        "print(f\"Private Key: (n={hex(keyPair.n)}, e={hex(keyPair.d)})\")"
      ],
      "execution_count": null,
      "outputs": [
        {
          "output_type": "stream",
          "name": "stdout",
          "text": [
            "Public Key: (n=0xd46fbf6b832f3cbffcdd26686e615c510d9195aa6be4ab765062cc840a6d15081b305a674a7b87a1b7ee296d0a8bfcdcbcb67816001271729c8f0c706d6440a1c5e6890b901357b4abca63dad3cab30e8e20274ee7766c72eba7123d00386179a09cbed3c4301290e8c0b38c01585944839b8d43be27a59ada5775ec80751163aecb910b0b1d72783f04cb0d5b5dd014baff109674b1c186fd01945d87c70ac79c56acdf931fad43bd4436524b2769bd3c82e19af657185caf88d684985bc6bc68db0bfdc6cdf77583654e8c6560fb1f7078da12dccd8f9134fe5f217fb380d57903bd0e2ed03fde054ab29274cc51a29e73567bcbc67e3a5ad31d702ddad319, e=0x10001)\n",
            "Private Key: (n=0xd46fbf6b832f3cbffcdd26686e615c510d9195aa6be4ab765062cc840a6d15081b305a674a7b87a1b7ee296d0a8bfcdcbcb67816001271729c8f0c706d6440a1c5e6890b901357b4abca63dad3cab30e8e20274ee7766c72eba7123d00386179a09cbed3c4301290e8c0b38c01585944839b8d43be27a59ada5775ec80751163aecb910b0b1d72783f04cb0d5b5dd014baff109674b1c186fd01945d87c70ac79c56acdf931fad43bd4436524b2769bd3c82e19af657185caf88d684985bc6bc68db0bfdc6cdf77583654e8c6560fb1f7078da12dccd8f9134fe5f217fb380d57903bd0e2ed03fde054ab29274cc51a29e73567bcbc67e3a5ad31d702ddad319, e=0x1800cc632c7e70e1cc837c6c7e5457e6fc9e7f87b30b32687aeabeeb08768cd2cea7a6ff56c6206c2069339b137effc23d3c6cd3278cedeea24bf37edc8d605427154654dd21a25e52aeda9b8624b818a3ec74249138ab464ce422c66bb8f32298083df3958e4cfabca1d167b75b3132f19fe8d547ae1923271a8cc37d3c3d0b8e9276d6e9683a676f340e89cbdbb37d39e063f57be83fba33a2cf7669ea31d673611f47211e81b9cf65fa3f080621269a6593045ee917ed09d63d2d95638e75091e65da89f503a748e2c0bac5aba00aacd1e0f9419eded823b773d5df59409a6ec234a5e0958f180f70f2ad84a131c312a260f94c3f6f7fe2b034dc26282f25)\n"
          ]
        }
      ]
    },
    {
      "cell_type": "code",
      "metadata": {
        "colab": {
          "base_uri": "https://localhost:8080/"
        },
        "id": "vxhk82IBF0VG",
        "outputId": "bb29ce51-262d-4508-c88e-fd47e14ccd64"
      },
      "source": [
        "# RSA sign the message\n",
        "msg = b'18BCE069 Ganpat Kumar S'\n",
        "from hashlib import sha512\n",
        "hash = int.from_bytes(sha512(msg).digest(),byteorder='big')\n",
        "signature = pow(hash , keyPair.d , keyPair.n)\n",
        "print(\"Signature : \",hex(signature))"
      ],
      "execution_count": null,
      "outputs": [
        {
          "output_type": "stream",
          "name": "stdout",
          "text": [
            "Signature :  0xb872fb239a62a6c34be28ca6e0671504a397fe3ef69bd5f23aedb308655e59f1924d890abeed6421aa226e6e55af926076b4fa3625f03d65223e93a906ac2f0574151357bbdc42ae2a4b7a4d83cb264c54286cfe1138917016c67643818998ac7349db939c7f55db13341aad0fae0310009f6c29602a99741577edade54b20810f0a1a0b16d11e4b2befffb87df01dac2172f536e3394bbb1d8b137a1fd30df29bfe9caacec047c95e2552ad8c6f442b3cf1ce8d768dd421b39cad950607565f7f81f83e82cca86b2819337facbda5b91889ed671b1fe760c792f9e77a5a32b790404ecd285b291ab0aa62784eea3eaf4238706414ecb87f3022c339100aef22\n"
          ]
        }
      ]
    },
    {
      "cell_type": "code",
      "metadata": {
        "colab": {
          "base_uri": "https://localhost:8080/"
        },
        "id": "RcWL6xcIGSil",
        "outputId": "4aad33a8-d446-47f0-85b3-5c426627cc88"
      },
      "source": [
        "#RSA verify signature\n",
        "msg = b'18BCE069 Ganpat Kumar S'\n",
        "hash = int.from_bytes(sha512(msg).digest(),byteorder='big')\n",
        "hashFromSignature = pow(signature,keyPair.e,keyPair.n)\n",
        "print(\"Signature valid : \",hash == hashFromSignature)"
      ],
      "execution_count": null,
      "outputs": [
        {
          "output_type": "stream",
          "name": "stdout",
          "text": [
            "Signature valid :  True\n"
          ]
        }
      ]
    },
    {
      "cell_type": "code",
      "metadata": {
        "colab": {
          "base_uri": "https://localhost:8080/"
        },
        "id": "y8Zc0fk9Gw5t",
        "outputId": "024a6557-2e4e-4020-daf7-9345a0707e68"
      },
      "source": [
        "#Tempered msg\n",
        "msg = b'8BCE069 Ganpat Kumar S'\n",
        "hash = int.from_bytes(sha512(msg).digest(),byteorder='big')\n",
        "hashFromSignature = pow(signature,keyPair.e,keyPair.n)\n",
        "print(\"Signature valid : \",hash == hashFromSignature)"
      ],
      "execution_count": null,
      "outputs": [
        {
          "output_type": "stream",
          "name": "stdout",
          "text": [
            "Signature valid :  False\n"
          ]
        }
      ]
    },
    {
      "cell_type": "markdown",
      "metadata": {
        "id": "s14LDh6UHHOm"
      },
      "source": [
        "# **RSA and PKCS library**"
      ]
    },
    {
      "cell_type": "code",
      "metadata": {
        "colab": {
          "base_uri": "https://localhost:8080/"
        },
        "id": "ODiDfkJ4HMqD",
        "outputId": "78de5136-ba2e-41f6-d004-f632efe96a34"
      },
      "source": [
        "from Crypto.PublicKey import RSA\n",
        "from Crypto.Signature.pkcs1_15 import PKCS115_SigScheme\n",
        "from Crypto.Hash import SHA256\n",
        "import binascii\n",
        "\n",
        "keyPair = RSA.generate(bits=1024)\n",
        "pubKey = keyPair.publickey()\n",
        "\n",
        "#sign the message\n",
        "msg =  b'18BCE069 Ganpat Kumar S'\n",
        "hash = SHA256.new(msg)\n",
        "signer = PKCS115_SigScheme(keyPair)\n",
        "signature = signer.sign(hash)\n",
        "print(\"Signature : \",binascii.hexlify(signature))\n",
        "\n",
        "#verify correct msg\n",
        "msg =  b'18BCE069 Ganpat Kumar S'\n",
        "hash = SHA256.new(msg)\n",
        "verifier = PKCS115_SigScheme(pubKey)\n",
        "try:\n",
        "  verifier.verify(hash , signature)\n",
        "  print(\"Signature is valid\")\n",
        "except:\n",
        "  print(\"Signature is invalid\")\n",
        "\n",
        "#verify tempered msg\n",
        "msg =  b'8BCE069 Ganpat Kumar S'\n",
        "hash = SHA256.new(msg)\n",
        "verifier = PKCS115_SigScheme(pubKey)\n",
        "try:\n",
        "  verifier.verify(hash , signature)\n",
        "  print(\"Signature is valid\")\n",
        "except:\n",
        "  print(\"Signature is invalid\")"
      ],
      "execution_count": null,
      "outputs": [
        {
          "output_type": "stream",
          "name": "stdout",
          "text": [
            "Signature :  b'92d1364091b7ee2d520c76561c2809c0e79bec8e3313a6657ec4993f0ad36061e92997045035ef356ad7d5bbea03a69272ae1a70ac6814f5ff35ca046e02ccce790dd53a8ed8b4d8ce0e9c68e2204ce99f3f2001baa8fe086b9f24da35eba89bb4de429245c6a588ad662c825e747424bad8500dd0c0fcaf395e17e49f5d33a3'\n",
            "Signature is valid\n",
            "Signature is invalid\n"
          ]
        }
      ]
    },
    {
      "cell_type": "markdown",
      "metadata": {
        "id": "f7WsD_csLrD_"
      },
      "source": [
        "# **Elliptic Curve Cryptography Digital Signature generation and veerification**"
      ]
    },
    {
      "cell_type": "code",
      "metadata": {
        "colab": {
          "base_uri": "https://localhost:8080/"
        },
        "id": "FS5PpsfYReQr",
        "outputId": "63eb4b5d-1077-4507-e222-4b5b0c244eed"
      },
      "source": [
        "pip install ecpy"
      ],
      "execution_count": null,
      "outputs": [
        {
          "output_type": "stream",
          "name": "stdout",
          "text": [
            "Collecting ecpy\n",
            "  Downloading ECPy-1.2.5-py3-none-any.whl (43 kB)\n",
            "\u001b[?25l\r\u001b[K     |███████▋                        | 10 kB 24.1 MB/s eta 0:00:01\r\u001b[K     |███████████████▏                | 20 kB 29.8 MB/s eta 0:00:01\r\u001b[K     |██████████████████████▉         | 30 kB 16.9 MB/s eta 0:00:01\r\u001b[K     |██████████████████████████████▍ | 40 kB 12.4 MB/s eta 0:00:01\r\u001b[K     |████████████████████████████████| 43 kB 1.2 MB/s \n",
            "\u001b[?25hInstalling collected packages: ecpy\n",
            "Successfully installed ecpy-1.2.5\n"
          ]
        }
      ]
    },
    {
      "cell_type": "code",
      "metadata": {
        "colab": {
          "base_uri": "https://localhost:8080/"
        },
        "id": "IZfrGiwzRjHp",
        "outputId": "e4e4cc45-bb16-4615-be63-9ee58ace2644"
      },
      "source": [
        "from ecpy.curves import Curve\n",
        "from ecpy.keys import ECPrivateKey\n",
        "from ecpy.eddsa import EDDSA\n",
        "import secrets, hashlib, binascii\n",
        "\n",
        "curve = Curve.get_curve('Ed448')\n",
        "signer = EDDSA(hashlib.shake_256, hash_len=114)\n",
        "privKey = ECPrivateKey(secrets.randbits(57*8), curve)\n",
        "pubKey = signer.get_public_key(privKey, hashlib.shake_256, hash_len=114)\n",
        "print(\"Private key (57 bytes):\", privKey)\n",
        "print(\"Public key (compressed, 57 bytes): \",\n",
        "      binascii.hexlify(curve.encode_point(pubKey.W)))\n",
        "print(\"Public key (point): \", pubKey)"
      ],
      "execution_count": null,
      "outputs": [
        {
          "output_type": "stream",
          "name": "stdout",
          "text": [
            "Private key (57 bytes): ECPrivateKey:\n",
            "  d: 9325a24cd0335bcc374c5d1cbb023a84f35280adeab17b24aad9765d9aede8360860409decadf66a2e47fd352df320c46be1e195f51aa15fd7\n",
            "Public key (compressed, 57 bytes):  b'331f84e0f8d7bff70dbb06335066475007763abb731dbb878f9f4358cacd6113dac865c01f5d227edc271c588a603adf3f27d84d6f4aa41900'\n",
            "Public key (point):  ECPublicKey:\n",
            "  x: 86bcb30ccce263c6e6dc64ad2145ba8698bdaee88748abf504a3adaee4e21eefbd7477f49ab661514be97a5a9822f322bee73509fb2d641c\n",
            "  y: 19a44a6f4dd8273fdf3a608a581c27dc7e225d1fc065c8da1361cdca58439f8f87bb1d73bb3a7607504766503306bb0df7bfd7f8e0841f33\n"
          ]
        }
      ]
    },
    {
      "cell_type": "code",
      "metadata": {
        "colab": {
          "base_uri": "https://localhost:8080/"
        },
        "id": "YGabwhQUTo_X",
        "outputId": "67b82756-95d6-4b5a-b3e8-3731af1e4ba5"
      },
      "source": [
        "msg = b'Message for zigning'\n",
        "signature = signer.sign(msg, privKey)\n",
        "print(\"Signature\",binascii.hexlify(signature))\n",
        "valid = signer.verify(msg,signature,pubKey)\n",
        "print(\"Valid Signature ? \",valid)\n"
      ],
      "execution_count": null,
      "outputs": [
        {
          "output_type": "stream",
          "name": "stdout",
          "text": [
            "Signature b'0ae4f4b965520eed069af2139eb9b3ebbbe41c20eef8805f24b6cb1b3889831f02bf03fd2fb01874c4f0e70af4af275f875a871d09342b93808aea3896fb0c21c2b7ad8998557d5c03bc5532e6a079ac20d5108557cd053dd94cf0f729ab4430a82ef5350babaf1a84fd8a700dee35002600'\n",
            "Valid Signature ?  True\n"
          ]
        }
      ]
    },
    {
      "cell_type": "code",
      "metadata": {
        "colab": {
          "base_uri": "https://localhost:8080/"
        },
        "id": "yZvKsrRxUD-u",
        "outputId": "814d6779-9260-4a89-f63b-bce6b78a6867"
      },
      "source": [
        "valid = signer.verify(b'tampered msg',signature,pubKey)\n",
        "print(\"Valid signatyure ? \",valid)"
      ],
      "execution_count": null,
      "outputs": [
        {
          "output_type": "stream",
          "name": "stdout",
          "text": [
            "Valid signatyure ?  False\n"
          ]
        }
      ]
    },
    {
      "cell_type": "code",
      "metadata": {
        "id": "zmjughA_T-tZ"
      },
      "source": [
        ""
      ],
      "execution_count": null,
      "outputs": []
    },
    {
      "cell_type": "code",
      "metadata": {
        "id": "cd0ELje4SkZh"
      },
      "source": [
        ""
      ],
      "execution_count": null,
      "outputs": []
    }
  ]
}